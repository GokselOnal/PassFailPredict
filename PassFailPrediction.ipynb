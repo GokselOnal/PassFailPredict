{
 "cells": [
  {
   "cell_type": "code",
   "execution_count": 1,
   "id": "3bd5d4b6",
   "metadata": {},
   "outputs": [],
   "source": [
    "import numpy as np\n",
    "import pandas as pd\n",
    "import copy"
   ]
  },
  {
   "cell_type": "code",
   "execution_count": 2,
   "id": "072cc22d",
   "metadata": {},
   "outputs": [],
   "source": [
    "# number of students\n",
    "m = 10000"
   ]
  },
  {
   "cell_type": "code",
   "execution_count": 3,
   "id": "a37b5a8f",
   "metadata": {},
   "outputs": [],
   "source": [
    "def examResultGenerator(m):\n",
    "    examRes = []\n",
    "    for i in range(m*3):\n",
    "        examRes.append(np.random.randint(0,101))\n",
    "    examRes = np.array(examRes)\n",
    "    # midterm1 / midterm2 / final\n",
    "    examRes = examRes.reshape(m, 3)\n",
    "    return examRes"
   ]
  },
  {
   "cell_type": "code",
   "execution_count": 4,
   "id": "5e7d59fb",
   "metadata": {},
   "outputs": [],
   "source": [
    "# 30% midterm1 + 30% midterm2 + 40% final > 40 ==> Pass\n",
    "def results(examRes):\n",
    "    isPass = []\n",
    "    for i in range(m):\n",
    "        if ((examRes[i][0] * 0.30) + (examRes[i][1] * 0.30) + (examRes[i][2] * 0.40)) > 40:\n",
    "            isPass.append(1)\n",
    "        else:\n",
    "            isPass.append(0)   \n",
    "    isPass = np.array(isPass)\n",
    "    return isPass   "
   ]
  },
  {
   "cell_type": "code",
   "execution_count": 5,
   "id": "4ea2b724",
   "metadata": {},
   "outputs": [],
   "source": [
    "def dataGenerator(m):\n",
    "    examRes = examResultGenerator(m)\n",
    "    isPass = results(examRes)\n",
    "    \n",
    "    sum = 0\n",
    "    for i in range(m):\n",
    "        if isPass[i] == 1:\n",
    "            sum +=1\n",
    "    print(\"# of Pass: \", sum)\n",
    "    print(\"# of Fail: \", m - sum)\n",
    "    \n",
    "    return (examRes, isPass)"
   ]
  },
  {
   "cell_type": "markdown",
   "id": "55d852f4",
   "metadata": {},
   "source": [
    "## 1 Layer NN"
   ]
  },
  {
   "cell_type": "code",
   "execution_count": 6,
   "id": "b97eb4e4",
   "metadata": {},
   "outputs": [],
   "source": [
    "def initialize_with_zeros(dim):\n",
    "    w = np.zeros((dim,1))\n",
    "    b = 0.0\n",
    "    \n",
    "    return w, b"
   ]
  },
  {
   "cell_type": "code",
   "execution_count": 7,
   "id": "d30d401f",
   "metadata": {},
   "outputs": [],
   "source": [
    "def sigmoid(z):\n",
    "    s = 1 / (1 + np.exp(-z))\n",
    "    \n",
    "    return s"
   ]
  },
  {
   "cell_type": "code",
   "execution_count": 8,
   "id": "2953673b",
   "metadata": {},
   "outputs": [],
   "source": [
    "def propagate(w, b, X, Y):    \n",
    "    m = X.shape[1]\n",
    "    A = sigmoid(np.dot(w.T,X) + b)\n",
    "    cost = (-1 / m) * np.sum(Y * np.log(A) + ((1- Y) * np.log(1-A)))\n",
    "\n",
    "    dw = (1 / m) * (np.dot(X,(A - Y).T))\n",
    "    db = (1 / m) * np.sum(A - Y)\n",
    "    cost = np.squeeze(np.array(cost))\n",
    "    \n",
    "    grads = {\"dw\": dw,\n",
    "             \"db\": db}\n",
    "    \n",
    "    return grads, cost"
   ]
  },
  {
   "cell_type": "code",
   "execution_count": 9,
   "id": "594dba13",
   "metadata": {},
   "outputs": [],
   "source": [
    "def optimize(w, b, X, Y, num_iterations=100, learning_rate=0.009, print_cost=False):\n",
    "    w = copy.deepcopy(w)\n",
    "    b = copy.deepcopy(b)\n",
    "    \n",
    "    costs = []\n",
    "    \n",
    "    for i in range(num_iterations):\n",
    "        grads, cost = propagate(w, b, X, Y)\n",
    "  \n",
    "        dw = grads[\"dw\"]\n",
    "        db = grads[\"db\"]\n",
    "\n",
    "        w = w - learning_rate * dw\n",
    "        b = b - learning_rate * db\n",
    "\n",
    "        if i % 100 == 0:\n",
    "            costs.append(cost)\n",
    "            if print_cost:\n",
    "                print (\"Cost after iteration %i: %f\" %(i, cost))\n",
    "    \n",
    "    params = {\"w\": w,\n",
    "              \"b\": b}\n",
    "    \n",
    "    grads = {\"dw\": dw,\n",
    "             \"db\": db}\n",
    "    \n",
    "    return params, grads, costs"
   ]
  },
  {
   "cell_type": "code",
   "execution_count": 10,
   "id": "78e1ee99",
   "metadata": {},
   "outputs": [],
   "source": [
    "def predict(w, b, X):\n",
    " \n",
    "    m = X.shape[1]\n",
    "    Y_prediction = np.zeros((1, m))\n",
    "    w = w.reshape(X.shape[0], 1)\n",
    "    \n",
    "    A = sigmoid(np.dot(w.T,X) + b)\n",
    "   \n",
    "    for i in range(A.shape[1]):\n",
    "        if A[0,i] > 0.5:\n",
    "            Y_prediction[0,i] = 1\n",
    "        else:\n",
    "            Y_prediction[0,i] = 0\n",
    "    \n",
    "    return Y_prediction"
   ]
  },
  {
   "cell_type": "code",
   "execution_count": 11,
   "id": "f88e84c7",
   "metadata": {},
   "outputs": [],
   "source": [
    "def model(X_train, Y_train, X_test, Y_test, num_iterations=2000, learning_rate=0.5, print_cost=False):\n",
    "   \n",
    "    w, b = initialize_with_zeros(X_train.shape[0])\n",
    "    params, grads, costs = optimize(w, b, X_train, Y_train, num_iterations, learning_rate, print_cost)\n",
    " \n",
    "    w = params[\"w\"]\n",
    "    b = params[\"b\"]\n",
    "    \n",
    "    Y_prediction_test = predict(w, b, X_test) \n",
    "    Y_prediction_train = predict(w, b, X_train)\n",
    "      \n",
    "    d = {\"costs\": costs,\n",
    "         \"Y_prediction_test\": Y_prediction_test, \n",
    "         \"Y_prediction_train\" : Y_prediction_train, \n",
    "         \"w\" : w, \n",
    "         \"b\" : b,\n",
    "         \"learning_rate\" : learning_rate,\n",
    "         \"num_iterations\": num_iterations}\n",
    "    \n",
    "    return d"
   ]
  },
  {
   "cell_type": "code",
   "execution_count": 12,
   "id": "73d3ed0b",
   "metadata": {},
   "outputs": [],
   "source": [
    "from sklearn.model_selection import train_test_split\n",
    "def split(X,y):\n",
    "    X_train, X_test, y_train, y_test = train_test_split(X, y, test_size=0.30, random_state=0)\n",
    "    \n",
    "    print(\"# of train: \", X_train.shape[0])\n",
    "    print(\"# of test:  \", X_test.shape[0])\n",
    "    \n",
    "    return (X_train, X_test, y_train, y_test)"
   ]
  },
  {
   "cell_type": "code",
   "execution_count": 13,
   "id": "99907a5b",
   "metadata": {},
   "outputs": [],
   "source": [
    "from sklearn.preprocessing import StandardScaler\n",
    "def scale(X_train, X_test):\n",
    "    sc = StandardScaler()\n",
    "    X_train_scaled = sc.fit_transform(X_train)\n",
    "    X_test_scaled = sc.transform(X_test)\n",
    "    \n",
    "    return (X_train_scaled, X_test_scaled)"
   ]
  },
  {
   "cell_type": "code",
   "execution_count": 14,
   "id": "42bd9ed4",
   "metadata": {},
   "outputs": [],
   "source": [
    "def prepareData(X,y):\n",
    "    X_train, X_test, y_train, y_test = split(X,y)\n",
    "    X_train_scaled, X_test_scaled = scale(X_train, X_test)\n",
    "    \n",
    "    X_train, X_test, y_train, y_test = X_train_scaled.T, X_test_scaled.T, y_train.T, y_test.T\n",
    "    \n",
    "    return (X_train, X_test, y_train, y_test)"
   ]
  },
  {
   "cell_type": "code",
   "execution_count": 15,
   "id": "e199984b",
   "metadata": {},
   "outputs": [
    {
     "name": "stdout",
     "output_type": "stream",
     "text": [
      "# of Pass:  7126\n",
      "# of Fail:  2874\n"
     ]
    }
   ],
   "source": [
    "X, y = dataGenerator(m)"
   ]
  },
  {
   "cell_type": "code",
   "execution_count": 16,
   "id": "2a3f8a9a",
   "metadata": {},
   "outputs": [
    {
     "name": "stdout",
     "output_type": "stream",
     "text": [
      "# of train:  7000\n",
      "# of test:   3000\n"
     ]
    }
   ],
   "source": [
    "X_train, X_test, y_train, y_test = prepareData(X,y)"
   ]
  },
  {
   "cell_type": "code",
   "execution_count": 17,
   "id": "4da95732",
   "metadata": {},
   "outputs": [
    {
     "name": "stdout",
     "output_type": "stream",
     "text": [
      "Cost after iteration 0: 0.693147\n",
      "Cost after iteration 100: 0.271998\n",
      "Cost after iteration 200: 0.207076\n",
      "Cost after iteration 300: 0.176976\n",
      "Cost after iteration 400: 0.158604\n",
      "Cost after iteration 500: 0.145843\n",
      "Cost after iteration 600: 0.136284\n",
      "Cost after iteration 700: 0.128757\n",
      "Cost after iteration 800: 0.122619\n",
      "Cost after iteration 900: 0.117481\n",
      "Cost after iteration 1000: 0.113091\n",
      "Cost after iteration 1100: 0.109279\n",
      "Cost after iteration 1200: 0.105926\n",
      "Cost after iteration 1300: 0.102944\n",
      "Cost after iteration 1400: 0.100267\n",
      "Cost after iteration 1500: 0.097844\n",
      "Cost after iteration 1600: 0.095638\n",
      "Cost after iteration 1700: 0.093615\n",
      "Cost after iteration 1800: 0.091752\n",
      "Cost after iteration 1900: 0.090028\n"
     ]
    }
   ],
   "source": [
    "d = model(X_train, y_train, X_test, y_test, num_iterations=2000, learning_rate=0.1, print_cost=True)"
   ]
  },
  {
   "cell_type": "code",
   "execution_count": null,
   "id": "e0760c4a",
   "metadata": {},
   "outputs": [],
   "source": []
  }
 ],
 "metadata": {
  "kernelspec": {
   "display_name": "Python 3",
   "language": "python",
   "name": "python3"
  },
  "language_info": {
   "codemirror_mode": {
    "name": "ipython",
    "version": 3
   },
   "file_extension": ".py",
   "mimetype": "text/x-python",
   "name": "python",
   "nbconvert_exporter": "python",
   "pygments_lexer": "ipython3",
   "version": "3.8.8"
  }
 },
 "nbformat": 4,
 "nbformat_minor": 5
}
